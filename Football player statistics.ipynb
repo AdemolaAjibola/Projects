{
 "cells": [
  {
   "cell_type": "markdown",
   "id": "bd464235-5308-4b09-b2aa-664225c92d97",
   "metadata": {},
   "source": [
    "# ENGLISH PREMIER LEAGUE FOOTBALL PLAYERS STATISTICS"
   ]
  },
  {
   "cell_type": "markdown",
   "id": "afa31432-0f3e-4aba-8f89-3402dd5c6790",
   "metadata": {},
   "source": [
    "#### The English Premier League (EPL) is renowned as one of the most competitive and exhilarating football leagues globally, showcasing top-tier talent and thrilling matches. The 2021/22 season encapsulated this spirit of football excellence, presenting an array of skilled players representing various clubs.\n",
    "#### The datasets below delineates key statistical insights for select players from the EPL 2021/22 season. Each column signifies distinct performance metrics:\n",
    "#### Player: Lists the names of prominent players from different teams.\n",
    "#### Team: Indicates the club affiliation of each player within the league.\n",
    "#### Nation: Represents the nationality of the players.\n",
    "#### Pos: Denotes the position(s) the player operates in—such as Forward (FW), Midfielder (MF), Defender (DF), or Goalkeeper (GK).\n",
    "#### Age: Displays the age of the player during the specified season.\n",
    "#### MP: Stands for Matches Played—total games a player participated in.\n",
    "#### Starts: Signifies the number of games the player initiated from the start.\n",
    "#### Min: Represents the total minutes played by each player.\n",
    "#### 90s: Refers to the number of complete 90-minute game intervals a player was involved in.\n",
    "#### Gls: Indicates the number of goals scored by the player.\n",
    "#### Ast: Represents the assists provided by the player, contributing to goals.\n",
    "#### G-PK: Displays the number of goals excluding penalty kicks.\n",
    "#### PK: Signifies the number of penalties successfully scored by the player.\n",
    "#### PKatt: Denotes the number of penalty kicks attempted by the player.\n",
    "#### CrdY: Indicates the total yellow cards received by the player.\n",
    "#### CrdR: Represents the total red cards received by the player.\n",
    "#### xG: Stands for Expected Goals—an estimate of the quality of scoring opportunities for a player.\n",
    "#### npxG: Represents non-penalty expected goals—a metric excluding penalties.\n",
    "#### xA: Signifies Expected Assists—an estimate of the quality of chances created by a player.\n",
    "#### npxG+xA: Represents the sum of non-penalty expected goals and expected assists, offering a combined metric.\n",
    "#### xG: Expected goals—a prediction of the number of goals a player is expected to score.\n",
    "#### xA: Expected assists—a prediction of the number of assists a player is expected to make.\n",
    "#### xG+xA: The combined total of expected goals and expected assists for a player."
   ]
  },
  {
   "cell_type": "markdown",
   "id": "cfa4dc71-61ef-4751-83b8-98e39dbe1222",
   "metadata": {},
   "source": [
    "#### From this dataset, i will be analyzing\n",
    "#### * Player performance\n",
    "#### * Team Analysis\n",
    "#### * Position Analysis\n",
    "#### * Expected Goals Analysis\n",
    "#### * Minutes Played\n",
    "#### * Discipline\n",
    "#### * Efficiency Analysis\n",
    "#### * Age and Performance\n"
   ]
  },
  {
   "cell_type": "markdown",
   "id": "59e753db-e53e-4565-bea5-74ffaa6db312",
   "metadata": {},
   "source": [
    "#### importing Libraries"
   ]
  },
  {
   "cell_type": "code",
   "execution_count": 84,
   "id": "52e46739-c1b5-4a81-975e-6d503272b19e",
   "metadata": {},
   "outputs": [],
   "source": [
    "import numpy as np\n",
    "import pandas as pd\n",
    "import matplotlib.pyplot as plt\n",
    "import seaborn as sns"
   ]
  },
  {
   "cell_type": "markdown",
   "id": "46b1e7c7-a217-447f-bf42-5338ad258177",
   "metadata": {},
   "source": [
    "#### Loading dataset"
   ]
  },
  {
   "cell_type": "code",
   "execution_count": 85,
   "id": "de93669f-bcf5-46b8-b1e1-960b3247bcd8",
   "metadata": {},
   "outputs": [
    {
     "data": {
      "text/html": [
       "<div>\n",
       "<style scoped>\n",
       "    .dataframe tbody tr th:only-of-type {\n",
       "        vertical-align: middle;\n",
       "    }\n",
       "\n",
       "    .dataframe tbody tr th {\n",
       "        vertical-align: top;\n",
       "    }\n",
       "\n",
       "    .dataframe thead th {\n",
       "        text-align: right;\n",
       "    }\n",
       "</style>\n",
       "<table border=\"1\" class=\"dataframe\">\n",
       "  <thead>\n",
       "    <tr style=\"text-align: right;\">\n",
       "      <th></th>\n",
       "      <th>Player</th>\n",
       "      <th>Team</th>\n",
       "      <th>Nation</th>\n",
       "      <th>Pos</th>\n",
       "      <th>Age</th>\n",
       "      <th>MP</th>\n",
       "      <th>Starts</th>\n",
       "      <th>Min</th>\n",
       "      <th>90s</th>\n",
       "      <th>Gls</th>\n",
       "      <th>...</th>\n",
       "      <th>G+A-PK</th>\n",
       "      <th>xG</th>\n",
       "      <th>npxG</th>\n",
       "      <th>xA</th>\n",
       "      <th>npxG+xA</th>\n",
       "      <th>xG.1</th>\n",
       "      <th>xA.1</th>\n",
       "      <th>xG+xA</th>\n",
       "      <th>npxG.1</th>\n",
       "      <th>npxG+xA.1</th>\n",
       "    </tr>\n",
       "  </thead>\n",
       "  <tbody>\n",
       "    <tr>\n",
       "      <th>0</th>\n",
       "      <td>Bukayo Saka</td>\n",
       "      <td>Arsenal</td>\n",
       "      <td>eng ENG</td>\n",
       "      <td>FW,MF</td>\n",
       "      <td>19.0</td>\n",
       "      <td>38</td>\n",
       "      <td>36</td>\n",
       "      <td>2,978</td>\n",
       "      <td>33.1</td>\n",
       "      <td>11.0</td>\n",
       "      <td>...</td>\n",
       "      <td>0.48</td>\n",
       "      <td>9.7</td>\n",
       "      <td>8.2</td>\n",
       "      <td>6.9</td>\n",
       "      <td>15.2</td>\n",
       "      <td>0.29</td>\n",
       "      <td>0.21</td>\n",
       "      <td>0.50</td>\n",
       "      <td>0.25</td>\n",
       "      <td>0.46</td>\n",
       "    </tr>\n",
       "    <tr>\n",
       "      <th>1</th>\n",
       "      <td>Gabriel Dos Santos</td>\n",
       "      <td>Arsenal</td>\n",
       "      <td>br BRA</td>\n",
       "      <td>DF</td>\n",
       "      <td>23.0</td>\n",
       "      <td>35</td>\n",
       "      <td>35</td>\n",
       "      <td>3,063</td>\n",
       "      <td>34.0</td>\n",
       "      <td>5.0</td>\n",
       "      <td>...</td>\n",
       "      <td>0.15</td>\n",
       "      <td>2.7</td>\n",
       "      <td>2.7</td>\n",
       "      <td>0.8</td>\n",
       "      <td>3.5</td>\n",
       "      <td>0.08</td>\n",
       "      <td>0.02</td>\n",
       "      <td>0.10</td>\n",
       "      <td>0.08</td>\n",
       "      <td>0.10</td>\n",
       "    </tr>\n",
       "    <tr>\n",
       "      <th>2</th>\n",
       "      <td>Aaron Ramsdale</td>\n",
       "      <td>Arsenal</td>\n",
       "      <td>eng ENG</td>\n",
       "      <td>GK</td>\n",
       "      <td>23.0</td>\n",
       "      <td>34</td>\n",
       "      <td>34</td>\n",
       "      <td>3,060</td>\n",
       "      <td>34.0</td>\n",
       "      <td>0.0</td>\n",
       "      <td>...</td>\n",
       "      <td>0.00</td>\n",
       "      <td>0.0</td>\n",
       "      <td>0.0</td>\n",
       "      <td>0.0</td>\n",
       "      <td>0.0</td>\n",
       "      <td>0.00</td>\n",
       "      <td>0.00</td>\n",
       "      <td>0.00</td>\n",
       "      <td>0.00</td>\n",
       "      <td>0.00</td>\n",
       "    </tr>\n",
       "    <tr>\n",
       "      <th>3</th>\n",
       "      <td>Ben White</td>\n",
       "      <td>Arsenal</td>\n",
       "      <td>eng ENG</td>\n",
       "      <td>DF</td>\n",
       "      <td>23.0</td>\n",
       "      <td>32</td>\n",
       "      <td>32</td>\n",
       "      <td>2,880</td>\n",
       "      <td>32.0</td>\n",
       "      <td>0.0</td>\n",
       "      <td>...</td>\n",
       "      <td>0.00</td>\n",
       "      <td>1.0</td>\n",
       "      <td>1.0</td>\n",
       "      <td>0.6</td>\n",
       "      <td>1.6</td>\n",
       "      <td>0.03</td>\n",
       "      <td>0.02</td>\n",
       "      <td>0.05</td>\n",
       "      <td>0.03</td>\n",
       "      <td>0.05</td>\n",
       "    </tr>\n",
       "    <tr>\n",
       "      <th>4</th>\n",
       "      <td>Martin Ødegaard</td>\n",
       "      <td>Arsenal</td>\n",
       "      <td>no NOR</td>\n",
       "      <td>MF</td>\n",
       "      <td>22.0</td>\n",
       "      <td>36</td>\n",
       "      <td>32</td>\n",
       "      <td>2,785</td>\n",
       "      <td>30.9</td>\n",
       "      <td>7.0</td>\n",
       "      <td>...</td>\n",
       "      <td>0.36</td>\n",
       "      <td>4.8</td>\n",
       "      <td>4.8</td>\n",
       "      <td>6.8</td>\n",
       "      <td>11.6</td>\n",
       "      <td>0.16</td>\n",
       "      <td>0.22</td>\n",
       "      <td>0.38</td>\n",
       "      <td>0.16</td>\n",
       "      <td>0.38</td>\n",
       "    </tr>\n",
       "    <tr>\n",
       "      <th>...</th>\n",
       "      <td>...</td>\n",
       "      <td>...</td>\n",
       "      <td>...</td>\n",
       "      <td>...</td>\n",
       "      <td>...</td>\n",
       "      <td>...</td>\n",
       "      <td>...</td>\n",
       "      <td>...</td>\n",
       "      <td>...</td>\n",
       "      <td>...</td>\n",
       "      <td>...</td>\n",
       "      <td>...</td>\n",
       "      <td>...</td>\n",
       "      <td>...</td>\n",
       "      <td>...</td>\n",
       "      <td>...</td>\n",
       "      <td>...</td>\n",
       "      <td>...</td>\n",
       "      <td>...</td>\n",
       "      <td>...</td>\n",
       "      <td>...</td>\n",
       "    </tr>\n",
       "    <tr>\n",
       "      <th>686</th>\n",
       "      <td>Christian Marques</td>\n",
       "      <td>Wolverhampton Wanderers</td>\n",
       "      <td>ch SUI</td>\n",
       "      <td>DF</td>\n",
       "      <td>18.0</td>\n",
       "      <td>0</td>\n",
       "      <td>0</td>\n",
       "      <td>NaN</td>\n",
       "      <td>NaN</td>\n",
       "      <td>NaN</td>\n",
       "      <td>...</td>\n",
       "      <td>NaN</td>\n",
       "      <td>NaN</td>\n",
       "      <td>NaN</td>\n",
       "      <td>NaN</td>\n",
       "      <td>NaN</td>\n",
       "      <td>NaN</td>\n",
       "      <td>NaN</td>\n",
       "      <td>NaN</td>\n",
       "      <td>NaN</td>\n",
       "      <td>NaN</td>\n",
       "    </tr>\n",
       "    <tr>\n",
       "      <th>687</th>\n",
       "      <td>Yerson Mosquera</td>\n",
       "      <td>Wolverhampton Wanderers</td>\n",
       "      <td>co COL</td>\n",
       "      <td>DF</td>\n",
       "      <td>20.0</td>\n",
       "      <td>0</td>\n",
       "      <td>0</td>\n",
       "      <td>NaN</td>\n",
       "      <td>NaN</td>\n",
       "      <td>NaN</td>\n",
       "      <td>...</td>\n",
       "      <td>NaN</td>\n",
       "      <td>NaN</td>\n",
       "      <td>NaN</td>\n",
       "      <td>NaN</td>\n",
       "      <td>NaN</td>\n",
       "      <td>NaN</td>\n",
       "      <td>NaN</td>\n",
       "      <td>NaN</td>\n",
       "      <td>NaN</td>\n",
       "      <td>NaN</td>\n",
       "    </tr>\n",
       "    <tr>\n",
       "      <th>688</th>\n",
       "      <td>Louie Moulden</td>\n",
       "      <td>Wolverhampton Wanderers</td>\n",
       "      <td>eng ENG</td>\n",
       "      <td>GK</td>\n",
       "      <td>19.0</td>\n",
       "      <td>0</td>\n",
       "      <td>0</td>\n",
       "      <td>NaN</td>\n",
       "      <td>NaN</td>\n",
       "      <td>NaN</td>\n",
       "      <td>...</td>\n",
       "      <td>NaN</td>\n",
       "      <td>NaN</td>\n",
       "      <td>NaN</td>\n",
       "      <td>NaN</td>\n",
       "      <td>NaN</td>\n",
       "      <td>NaN</td>\n",
       "      <td>NaN</td>\n",
       "      <td>NaN</td>\n",
       "      <td>NaN</td>\n",
       "      <td>NaN</td>\n",
       "    </tr>\n",
       "    <tr>\n",
       "      <th>689</th>\n",
       "      <td>Dion Sanderson</td>\n",
       "      <td>Wolverhampton Wanderers</td>\n",
       "      <td>eng ENG</td>\n",
       "      <td>DF</td>\n",
       "      <td>21.0</td>\n",
       "      <td>0</td>\n",
       "      <td>0</td>\n",
       "      <td>NaN</td>\n",
       "      <td>NaN</td>\n",
       "      <td>NaN</td>\n",
       "      <td>...</td>\n",
       "      <td>NaN</td>\n",
       "      <td>NaN</td>\n",
       "      <td>NaN</td>\n",
       "      <td>NaN</td>\n",
       "      <td>NaN</td>\n",
       "      <td>NaN</td>\n",
       "      <td>NaN</td>\n",
       "      <td>NaN</td>\n",
       "      <td>NaN</td>\n",
       "      <td>NaN</td>\n",
       "    </tr>\n",
       "    <tr>\n",
       "      <th>690</th>\n",
       "      <td>James Storer</td>\n",
       "      <td>Wolverhampton Wanderers</td>\n",
       "      <td>NaN</td>\n",
       "      <td>GK</td>\n",
       "      <td>NaN</td>\n",
       "      <td>0</td>\n",
       "      <td>0</td>\n",
       "      <td>NaN</td>\n",
       "      <td>NaN</td>\n",
       "      <td>NaN</td>\n",
       "      <td>...</td>\n",
       "      <td>NaN</td>\n",
       "      <td>NaN</td>\n",
       "      <td>NaN</td>\n",
       "      <td>NaN</td>\n",
       "      <td>NaN</td>\n",
       "      <td>NaN</td>\n",
       "      <td>NaN</td>\n",
       "      <td>NaN</td>\n",
       "      <td>NaN</td>\n",
       "      <td>NaN</td>\n",
       "    </tr>\n",
       "  </tbody>\n",
       "</table>\n",
       "<p>691 rows × 30 columns</p>\n",
       "</div>"
      ],
      "text/plain": [
       "                 Player                     Team   Nation    Pos   Age  MP  \\\n",
       "0           Bukayo Saka                  Arsenal  eng ENG  FW,MF  19.0  38   \n",
       "1    Gabriel Dos Santos                  Arsenal   br BRA     DF  23.0  35   \n",
       "2        Aaron Ramsdale                  Arsenal  eng ENG     GK  23.0  34   \n",
       "3             Ben White                  Arsenal  eng ENG     DF  23.0  32   \n",
       "4       Martin Ødegaard                  Arsenal   no NOR     MF  22.0  36   \n",
       "..                  ...                      ...      ...    ...   ...  ..   \n",
       "686   Christian Marques  Wolverhampton Wanderers   ch SUI     DF  18.0   0   \n",
       "687     Yerson Mosquera  Wolverhampton Wanderers   co COL     DF  20.0   0   \n",
       "688       Louie Moulden  Wolverhampton Wanderers  eng ENG     GK  19.0   0   \n",
       "689      Dion Sanderson  Wolverhampton Wanderers  eng ENG     DF  21.0   0   \n",
       "690        James Storer  Wolverhampton Wanderers      NaN     GK   NaN   0   \n",
       "\n",
       "     Starts    Min   90s   Gls  ...  G+A-PK   xG  npxG   xA  npxG+xA  xG.1  \\\n",
       "0        36  2,978  33.1  11.0  ...    0.48  9.7   8.2  6.9     15.2  0.29   \n",
       "1        35  3,063  34.0   5.0  ...    0.15  2.7   2.7  0.8      3.5  0.08   \n",
       "2        34  3,060  34.0   0.0  ...    0.00  0.0   0.0  0.0      0.0  0.00   \n",
       "3        32  2,880  32.0   0.0  ...    0.00  1.0   1.0  0.6      1.6  0.03   \n",
       "4        32  2,785  30.9   7.0  ...    0.36  4.8   4.8  6.8     11.6  0.16   \n",
       "..      ...    ...   ...   ...  ...     ...  ...   ...  ...      ...   ...   \n",
       "686       0    NaN   NaN   NaN  ...     NaN  NaN   NaN  NaN      NaN   NaN   \n",
       "687       0    NaN   NaN   NaN  ...     NaN  NaN   NaN  NaN      NaN   NaN   \n",
       "688       0    NaN   NaN   NaN  ...     NaN  NaN   NaN  NaN      NaN   NaN   \n",
       "689       0    NaN   NaN   NaN  ...     NaN  NaN   NaN  NaN      NaN   NaN   \n",
       "690       0    NaN   NaN   NaN  ...     NaN  NaN   NaN  NaN      NaN   NaN   \n",
       "\n",
       "     xA.1  xG+xA  npxG.1  npxG+xA.1  \n",
       "0    0.21   0.50    0.25       0.46  \n",
       "1    0.02   0.10    0.08       0.10  \n",
       "2    0.00   0.00    0.00       0.00  \n",
       "3    0.02   0.05    0.03       0.05  \n",
       "4    0.22   0.38    0.16       0.38  \n",
       "..    ...    ...     ...        ...  \n",
       "686   NaN    NaN     NaN        NaN  \n",
       "687   NaN    NaN     NaN        NaN  \n",
       "688   NaN    NaN     NaN        NaN  \n",
       "689   NaN    NaN     NaN        NaN  \n",
       "690   NaN    NaN     NaN        NaN  \n",
       "\n",
       "[691 rows x 30 columns]"
      ]
     },
     "execution_count": 85,
     "metadata": {},
     "output_type": "execute_result"
    }
   ],
   "source": [
    "df= pd.read_csv(r'C:\\Users\\Han\\Documents\\Football Players Stats 2.csv')\n",
    "df"
   ]
  },
  {
   "cell_type": "markdown",
   "id": "50596c0b-bde2-46a4-9aeb-0db7d6e3da3a",
   "metadata": {},
   "source": [
    "#### Showing information of the dataset"
   ]
  },
  {
   "cell_type": "code",
   "execution_count": 86,
   "id": "44b7cfc3-038a-4448-a48d-4b931aa3896e",
   "metadata": {},
   "outputs": [
    {
     "name": "stdout",
     "output_type": "stream",
     "text": [
      "<class 'pandas.core.frame.DataFrame'>\n",
      "RangeIndex: 691 entries, 0 to 690\n",
      "Data columns (total 30 columns):\n",
      " #   Column     Non-Null Count  Dtype  \n",
      "---  ------     --------------  -----  \n",
      " 0   Player     691 non-null    object \n",
      " 1   Team       691 non-null    object \n",
      " 2   Nation     688 non-null    object \n",
      " 3   Pos        691 non-null    object \n",
      " 4   Age        687 non-null    float64\n",
      " 5   MP         691 non-null    int64  \n",
      " 6   Starts     691 non-null    int64  \n",
      " 7   Min        546 non-null    object \n",
      " 8   90s        547 non-null    float64\n",
      " 9   Gls        547 non-null    float64\n",
      " 10  Ast        547 non-null    float64\n",
      " 11  G-PK       547 non-null    float64\n",
      " 12  PK         547 non-null    float64\n",
      " 13  PKatt      547 non-null    float64\n",
      " 14  CrdY       547 non-null    float64\n",
      " 15  CrdR       547 non-null    float64\n",
      " 16  Gls.1      546 non-null    float64\n",
      " 17  Ast.1      546 non-null    float64\n",
      " 18  G+A        546 non-null    float64\n",
      " 19  G-PK.1     546 non-null    float64\n",
      " 20  G+A-PK     546 non-null    float64\n",
      " 21  xG         546 non-null    float64\n",
      " 22  npxG       546 non-null    float64\n",
      " 23  xA         546 non-null    float64\n",
      " 24  npxG+xA    546 non-null    float64\n",
      " 25  xG.1       546 non-null    float64\n",
      " 26  xA.1       546 non-null    float64\n",
      " 27  xG+xA      546 non-null    float64\n",
      " 28  npxG.1     546 non-null    float64\n",
      " 29  npxG+xA.1  546 non-null    float64\n",
      "dtypes: float64(23), int64(2), object(5)\n",
      "memory usage: 162.1+ KB\n"
     ]
    }
   ],
   "source": [
    "df.info()"
   ]
  },
  {
   "cell_type": "markdown",
   "id": "aef30d97-c564-4071-8988-c8601970ddc7",
   "metadata": {},
   "source": [
    "#### Showing the columns"
   ]
  },
  {
   "cell_type": "code",
   "execution_count": 87,
   "id": "3d318924-b358-4c5c-b983-63f0e243ca68",
   "metadata": {},
   "outputs": [
    {
     "data": {
      "text/plain": [
       "Index(['Player', 'Team', 'Nation', 'Pos', 'Age', 'MP', 'Starts', 'Min', '90s',\n",
       "       'Gls', 'Ast', 'G-PK', 'PK', 'PKatt', 'CrdY', 'CrdR', 'Gls.1', 'Ast.1',\n",
       "       'G+A', 'G-PK.1', 'G+A-PK', 'xG', 'npxG', 'xA', 'npxG+xA', 'xG.1',\n",
       "       'xA.1', 'xG+xA', 'npxG.1', 'npxG+xA.1'],\n",
       "      dtype='object')"
      ]
     },
     "execution_count": 87,
     "metadata": {},
     "output_type": "execute_result"
    }
   ],
   "source": [
    "df.columns"
   ]
  },
  {
   "cell_type": "markdown",
   "id": "f643118c-5e81-4ed0-8f41-754d0f5d8ea4",
   "metadata": {},
   "source": [
    "#### Dropping the null values"
   ]
  },
  {
   "cell_type": "code",
   "execution_count": 88,
   "id": "e905f512-49e5-4f7f-96f5-5c853777fa2b",
   "metadata": {},
   "outputs": [],
   "source": [
    "df=df.dropna()"
   ]
  },
  {
   "cell_type": "code",
   "execution_count": 89,
   "id": "8a6c3467-cbdb-4ce2-b082-302b8a956f0a",
   "metadata": {},
   "outputs": [
    {
     "data": {
      "text/html": [
       "<div>\n",
       "<style scoped>\n",
       "    .dataframe tbody tr th:only-of-type {\n",
       "        vertical-align: middle;\n",
       "    }\n",
       "\n",
       "    .dataframe tbody tr th {\n",
       "        vertical-align: top;\n",
       "    }\n",
       "\n",
       "    .dataframe thead th {\n",
       "        text-align: right;\n",
       "    }\n",
       "</style>\n",
       "<table border=\"1\" class=\"dataframe\">\n",
       "  <thead>\n",
       "    <tr style=\"text-align: right;\">\n",
       "      <th></th>\n",
       "      <th>Player</th>\n",
       "      <th>Team</th>\n",
       "      <th>Nation</th>\n",
       "      <th>Pos</th>\n",
       "      <th>Age</th>\n",
       "      <th>MP</th>\n",
       "      <th>Starts</th>\n",
       "      <th>Min</th>\n",
       "      <th>90s</th>\n",
       "      <th>Gls</th>\n",
       "      <th>...</th>\n",
       "      <th>G+A-PK</th>\n",
       "      <th>xG</th>\n",
       "      <th>npxG</th>\n",
       "      <th>xA</th>\n",
       "      <th>npxG+xA</th>\n",
       "      <th>xG.1</th>\n",
       "      <th>xA.1</th>\n",
       "      <th>xG+xA</th>\n",
       "      <th>npxG.1</th>\n",
       "      <th>npxG+xA.1</th>\n",
       "    </tr>\n",
       "  </thead>\n",
       "  <tbody>\n",
       "    <tr>\n",
       "      <th>0</th>\n",
       "      <td>Bukayo Saka</td>\n",
       "      <td>Arsenal</td>\n",
       "      <td>eng ENG</td>\n",
       "      <td>FW,MF</td>\n",
       "      <td>19.0</td>\n",
       "      <td>38</td>\n",
       "      <td>36</td>\n",
       "      <td>2,978</td>\n",
       "      <td>33.1</td>\n",
       "      <td>11.0</td>\n",
       "      <td>...</td>\n",
       "      <td>0.48</td>\n",
       "      <td>9.7</td>\n",
       "      <td>8.2</td>\n",
       "      <td>6.9</td>\n",
       "      <td>15.2</td>\n",
       "      <td>0.29</td>\n",
       "      <td>0.21</td>\n",
       "      <td>0.50</td>\n",
       "      <td>0.25</td>\n",
       "      <td>0.46</td>\n",
       "    </tr>\n",
       "    <tr>\n",
       "      <th>1</th>\n",
       "      <td>Gabriel Dos Santos</td>\n",
       "      <td>Arsenal</td>\n",
       "      <td>br BRA</td>\n",
       "      <td>DF</td>\n",
       "      <td>23.0</td>\n",
       "      <td>35</td>\n",
       "      <td>35</td>\n",
       "      <td>3,063</td>\n",
       "      <td>34.0</td>\n",
       "      <td>5.0</td>\n",
       "      <td>...</td>\n",
       "      <td>0.15</td>\n",
       "      <td>2.7</td>\n",
       "      <td>2.7</td>\n",
       "      <td>0.8</td>\n",
       "      <td>3.5</td>\n",
       "      <td>0.08</td>\n",
       "      <td>0.02</td>\n",
       "      <td>0.10</td>\n",
       "      <td>0.08</td>\n",
       "      <td>0.10</td>\n",
       "    </tr>\n",
       "    <tr>\n",
       "      <th>2</th>\n",
       "      <td>Aaron Ramsdale</td>\n",
       "      <td>Arsenal</td>\n",
       "      <td>eng ENG</td>\n",
       "      <td>GK</td>\n",
       "      <td>23.0</td>\n",
       "      <td>34</td>\n",
       "      <td>34</td>\n",
       "      <td>3,060</td>\n",
       "      <td>34.0</td>\n",
       "      <td>0.0</td>\n",
       "      <td>...</td>\n",
       "      <td>0.00</td>\n",
       "      <td>0.0</td>\n",
       "      <td>0.0</td>\n",
       "      <td>0.0</td>\n",
       "      <td>0.0</td>\n",
       "      <td>0.00</td>\n",
       "      <td>0.00</td>\n",
       "      <td>0.00</td>\n",
       "      <td>0.00</td>\n",
       "      <td>0.00</td>\n",
       "    </tr>\n",
       "    <tr>\n",
       "      <th>3</th>\n",
       "      <td>Ben White</td>\n",
       "      <td>Arsenal</td>\n",
       "      <td>eng ENG</td>\n",
       "      <td>DF</td>\n",
       "      <td>23.0</td>\n",
       "      <td>32</td>\n",
       "      <td>32</td>\n",
       "      <td>2,880</td>\n",
       "      <td>32.0</td>\n",
       "      <td>0.0</td>\n",
       "      <td>...</td>\n",
       "      <td>0.00</td>\n",
       "      <td>1.0</td>\n",
       "      <td>1.0</td>\n",
       "      <td>0.6</td>\n",
       "      <td>1.6</td>\n",
       "      <td>0.03</td>\n",
       "      <td>0.02</td>\n",
       "      <td>0.05</td>\n",
       "      <td>0.03</td>\n",
       "      <td>0.05</td>\n",
       "    </tr>\n",
       "    <tr>\n",
       "      <th>4</th>\n",
       "      <td>Martin Ødegaard</td>\n",
       "      <td>Arsenal</td>\n",
       "      <td>no NOR</td>\n",
       "      <td>MF</td>\n",
       "      <td>22.0</td>\n",
       "      <td>36</td>\n",
       "      <td>32</td>\n",
       "      <td>2,785</td>\n",
       "      <td>30.9</td>\n",
       "      <td>7.0</td>\n",
       "      <td>...</td>\n",
       "      <td>0.36</td>\n",
       "      <td>4.8</td>\n",
       "      <td>4.8</td>\n",
       "      <td>6.8</td>\n",
       "      <td>11.6</td>\n",
       "      <td>0.16</td>\n",
       "      <td>0.22</td>\n",
       "      <td>0.38</td>\n",
       "      <td>0.16</td>\n",
       "      <td>0.38</td>\n",
       "    </tr>\n",
       "    <tr>\n",
       "      <th>...</th>\n",
       "      <td>...</td>\n",
       "      <td>...</td>\n",
       "      <td>...</td>\n",
       "      <td>...</td>\n",
       "      <td>...</td>\n",
       "      <td>...</td>\n",
       "      <td>...</td>\n",
       "      <td>...</td>\n",
       "      <td>...</td>\n",
       "      <td>...</td>\n",
       "      <td>...</td>\n",
       "      <td>...</td>\n",
       "      <td>...</td>\n",
       "      <td>...</td>\n",
       "      <td>...</td>\n",
       "      <td>...</td>\n",
       "      <td>...</td>\n",
       "      <td>...</td>\n",
       "      <td>...</td>\n",
       "      <td>...</td>\n",
       "      <td>...</td>\n",
       "    </tr>\n",
       "    <tr>\n",
       "      <th>678</th>\n",
       "      <td>Luke Cundle</td>\n",
       "      <td>Wolverhampton Wanderers</td>\n",
       "      <td>eng ENG</td>\n",
       "      <td>MF</td>\n",
       "      <td>19.0</td>\n",
       "      <td>4</td>\n",
       "      <td>2</td>\n",
       "      <td>180</td>\n",
       "      <td>2.0</td>\n",
       "      <td>0.0</td>\n",
       "      <td>...</td>\n",
       "      <td>0.00</td>\n",
       "      <td>0.0</td>\n",
       "      <td>0.0</td>\n",
       "      <td>0.2</td>\n",
       "      <td>0.2</td>\n",
       "      <td>0.00</td>\n",
       "      <td>0.12</td>\n",
       "      <td>0.12</td>\n",
       "      <td>0.00</td>\n",
       "      <td>0.12</td>\n",
       "    </tr>\n",
       "    <tr>\n",
       "      <th>679</th>\n",
       "      <td>Chiquinho</td>\n",
       "      <td>Wolverhampton Wanderers</td>\n",
       "      <td>pt POR</td>\n",
       "      <td>DF,MF</td>\n",
       "      <td>21.0</td>\n",
       "      <td>8</td>\n",
       "      <td>1</td>\n",
       "      <td>208</td>\n",
       "      <td>2.3</td>\n",
       "      <td>0.0</td>\n",
       "      <td>...</td>\n",
       "      <td>1.30</td>\n",
       "      <td>0.3</td>\n",
       "      <td>0.3</td>\n",
       "      <td>0.6</td>\n",
       "      <td>0.9</td>\n",
       "      <td>0.13</td>\n",
       "      <td>0.27</td>\n",
       "      <td>0.41</td>\n",
       "      <td>0.13</td>\n",
       "      <td>0.41</td>\n",
       "    </tr>\n",
       "    <tr>\n",
       "      <th>680</th>\n",
       "      <td>John Ruddy</td>\n",
       "      <td>Wolverhampton Wanderers</td>\n",
       "      <td>eng ENG</td>\n",
       "      <td>GK</td>\n",
       "      <td>34.0</td>\n",
       "      <td>2</td>\n",
       "      <td>1</td>\n",
       "      <td>135</td>\n",
       "      <td>1.5</td>\n",
       "      <td>0.0</td>\n",
       "      <td>...</td>\n",
       "      <td>0.00</td>\n",
       "      <td>0.0</td>\n",
       "      <td>0.0</td>\n",
       "      <td>0.0</td>\n",
       "      <td>0.0</td>\n",
       "      <td>0.00</td>\n",
       "      <td>0.00</td>\n",
       "      <td>0.00</td>\n",
       "      <td>0.00</td>\n",
       "      <td>0.00</td>\n",
       "    </tr>\n",
       "    <tr>\n",
       "      <th>681</th>\n",
       "      <td>Chem Campbell</td>\n",
       "      <td>Wolverhampton Wanderers</td>\n",
       "      <td>wls WAL</td>\n",
       "      <td>MF</td>\n",
       "      <td>18.0</td>\n",
       "      <td>1</td>\n",
       "      <td>0</td>\n",
       "      <td>13</td>\n",
       "      <td>0.1</td>\n",
       "      <td>0.0</td>\n",
       "      <td>...</td>\n",
       "      <td>0.00</td>\n",
       "      <td>0.0</td>\n",
       "      <td>0.0</td>\n",
       "      <td>0.0</td>\n",
       "      <td>0.0</td>\n",
       "      <td>0.00</td>\n",
       "      <td>0.00</td>\n",
       "      <td>0.00</td>\n",
       "      <td>0.00</td>\n",
       "      <td>0.00</td>\n",
       "    </tr>\n",
       "    <tr>\n",
       "      <th>682</th>\n",
       "      <td>Morgan Gibbs-White</td>\n",
       "      <td>Wolverhampton Wanderers</td>\n",
       "      <td>eng ENG</td>\n",
       "      <td>FW,MF</td>\n",
       "      <td>21.0</td>\n",
       "      <td>2</td>\n",
       "      <td>0</td>\n",
       "      <td>9</td>\n",
       "      <td>0.1</td>\n",
       "      <td>0.0</td>\n",
       "      <td>...</td>\n",
       "      <td>0.00</td>\n",
       "      <td>0.1</td>\n",
       "      <td>0.1</td>\n",
       "      <td>0.0</td>\n",
       "      <td>0.1</td>\n",
       "      <td>1.22</td>\n",
       "      <td>0.00</td>\n",
       "      <td>1.22</td>\n",
       "      <td>1.22</td>\n",
       "      <td>1.22</td>\n",
       "    </tr>\n",
       "  </tbody>\n",
       "</table>\n",
       "<p>546 rows × 30 columns</p>\n",
       "</div>"
      ],
      "text/plain": [
       "                 Player                     Team   Nation    Pos   Age  MP  \\\n",
       "0           Bukayo Saka                  Arsenal  eng ENG  FW,MF  19.0  38   \n",
       "1    Gabriel Dos Santos                  Arsenal   br BRA     DF  23.0  35   \n",
       "2        Aaron Ramsdale                  Arsenal  eng ENG     GK  23.0  34   \n",
       "3             Ben White                  Arsenal  eng ENG     DF  23.0  32   \n",
       "4       Martin Ødegaard                  Arsenal   no NOR     MF  22.0  36   \n",
       "..                  ...                      ...      ...    ...   ...  ..   \n",
       "678         Luke Cundle  Wolverhampton Wanderers  eng ENG     MF  19.0   4   \n",
       "679           Chiquinho  Wolverhampton Wanderers   pt POR  DF,MF  21.0   8   \n",
       "680          John Ruddy  Wolverhampton Wanderers  eng ENG     GK  34.0   2   \n",
       "681       Chem Campbell  Wolverhampton Wanderers  wls WAL     MF  18.0   1   \n",
       "682  Morgan Gibbs-White  Wolverhampton Wanderers  eng ENG  FW,MF  21.0   2   \n",
       "\n",
       "     Starts    Min   90s   Gls  ...  G+A-PK   xG  npxG   xA  npxG+xA  xG.1  \\\n",
       "0        36  2,978  33.1  11.0  ...    0.48  9.7   8.2  6.9     15.2  0.29   \n",
       "1        35  3,063  34.0   5.0  ...    0.15  2.7   2.7  0.8      3.5  0.08   \n",
       "2        34  3,060  34.0   0.0  ...    0.00  0.0   0.0  0.0      0.0  0.00   \n",
       "3        32  2,880  32.0   0.0  ...    0.00  1.0   1.0  0.6      1.6  0.03   \n",
       "4        32  2,785  30.9   7.0  ...    0.36  4.8   4.8  6.8     11.6  0.16   \n",
       "..      ...    ...   ...   ...  ...     ...  ...   ...  ...      ...   ...   \n",
       "678       2    180   2.0   0.0  ...    0.00  0.0   0.0  0.2      0.2  0.00   \n",
       "679       1    208   2.3   0.0  ...    1.30  0.3   0.3  0.6      0.9  0.13   \n",
       "680       1    135   1.5   0.0  ...    0.00  0.0   0.0  0.0      0.0  0.00   \n",
       "681       0     13   0.1   0.0  ...    0.00  0.0   0.0  0.0      0.0  0.00   \n",
       "682       0      9   0.1   0.0  ...    0.00  0.1   0.1  0.0      0.1  1.22   \n",
       "\n",
       "     xA.1  xG+xA  npxG.1  npxG+xA.1  \n",
       "0    0.21   0.50    0.25       0.46  \n",
       "1    0.02   0.10    0.08       0.10  \n",
       "2    0.00   0.00    0.00       0.00  \n",
       "3    0.02   0.05    0.03       0.05  \n",
       "4    0.22   0.38    0.16       0.38  \n",
       "..    ...    ...     ...        ...  \n",
       "678  0.12   0.12    0.00       0.12  \n",
       "679  0.27   0.41    0.13       0.41  \n",
       "680  0.00   0.00    0.00       0.00  \n",
       "681  0.00   0.00    0.00       0.00  \n",
       "682  0.00   1.22    1.22       1.22  \n",
       "\n",
       "[546 rows x 30 columns]"
      ]
     },
     "execution_count": 89,
     "metadata": {},
     "output_type": "execute_result"
    }
   ],
   "source": [
    "df"
   ]
  },
  {
   "cell_type": "markdown",
   "id": "a9436d74-832f-48ba-8d5e-09d8b26e9ca0",
   "metadata": {},
   "source": [
    "#### Checking for null values"
   ]
  },
  {
   "cell_type": "code",
   "execution_count": 90,
   "id": "76d7048c-6290-4e65-b822-23d9b49b5d8d",
   "metadata": {},
   "outputs": [
    {
     "data": {
      "text/plain": [
       "Player       0\n",
       "Team         0\n",
       "Nation       0\n",
       "Pos          0\n",
       "Age          0\n",
       "MP           0\n",
       "Starts       0\n",
       "Min          0\n",
       "90s          0\n",
       "Gls          0\n",
       "Ast          0\n",
       "G-PK         0\n",
       "PK           0\n",
       "PKatt        0\n",
       "CrdY         0\n",
       "CrdR         0\n",
       "Gls.1        0\n",
       "Ast.1        0\n",
       "G+A          0\n",
       "G-PK.1       0\n",
       "G+A-PK       0\n",
       "xG           0\n",
       "npxG         0\n",
       "xA           0\n",
       "npxG+xA      0\n",
       "xG.1         0\n",
       "xA.1         0\n",
       "xG+xA        0\n",
       "npxG.1       0\n",
       "npxG+xA.1    0\n",
       "dtype: int64"
      ]
     },
     "execution_count": 90,
     "metadata": {},
     "output_type": "execute_result"
    }
   ],
   "source": [
    "df.isnull().sum()"
   ]
  },
  {
   "cell_type": "markdown",
   "id": "03da2048-a7bb-4327-8761-3578a5961687",
   "metadata": {},
   "source": [
    "#### Showing overall statistic of the dataset"
   ]
  },
  {
   "cell_type": "code",
   "execution_count": 91,
   "id": "da63722e-97ad-4937-916e-29e643f439a7",
   "metadata": {},
   "outputs": [
    {
     "data": {
      "text/html": [
       "<div>\n",
       "<style scoped>\n",
       "    .dataframe tbody tr th:only-of-type {\n",
       "        vertical-align: middle;\n",
       "    }\n",
       "\n",
       "    .dataframe tbody tr th {\n",
       "        vertical-align: top;\n",
       "    }\n",
       "\n",
       "    .dataframe thead th {\n",
       "        text-align: right;\n",
       "    }\n",
       "</style>\n",
       "<table border=\"1\" class=\"dataframe\">\n",
       "  <thead>\n",
       "    <tr style=\"text-align: right;\">\n",
       "      <th></th>\n",
       "      <th>Age</th>\n",
       "      <th>MP</th>\n",
       "      <th>Starts</th>\n",
       "      <th>90s</th>\n",
       "      <th>Gls</th>\n",
       "      <th>Ast</th>\n",
       "      <th>G-PK</th>\n",
       "      <th>PK</th>\n",
       "      <th>PKatt</th>\n",
       "      <th>CrdY</th>\n",
       "      <th>...</th>\n",
       "      <th>G+A-PK</th>\n",
       "      <th>xG</th>\n",
       "      <th>npxG</th>\n",
       "      <th>xA</th>\n",
       "      <th>npxG+xA</th>\n",
       "      <th>xG.1</th>\n",
       "      <th>xA.1</th>\n",
       "      <th>xG+xA</th>\n",
       "      <th>npxG.1</th>\n",
       "      <th>npxG+xA.1</th>\n",
       "    </tr>\n",
       "  </thead>\n",
       "  <tbody>\n",
       "    <tr>\n",
       "      <th>count</th>\n",
       "      <td>546.000000</td>\n",
       "      <td>546.000000</td>\n",
       "      <td>546.000000</td>\n",
       "      <td>546.000000</td>\n",
       "      <td>546.000000</td>\n",
       "      <td>546.000000</td>\n",
       "      <td>546.000000</td>\n",
       "      <td>546.000000</td>\n",
       "      <td>546.000000</td>\n",
       "      <td>546.000000</td>\n",
       "      <td>...</td>\n",
       "      <td>546.000000</td>\n",
       "      <td>546.000000</td>\n",
       "      <td>546.000000</td>\n",
       "      <td>546.000000</td>\n",
       "      <td>546.000000</td>\n",
       "      <td>546.000000</td>\n",
       "      <td>546.000000</td>\n",
       "      <td>546.000000</td>\n",
       "      <td>546.000000</td>\n",
       "      <td>546.000000</td>\n",
       "    </tr>\n",
       "    <tr>\n",
       "      <th>mean</th>\n",
       "      <td>25.452381</td>\n",
       "      <td>19.203297</td>\n",
       "      <td>15.311355</td>\n",
       "      <td>15.283883</td>\n",
       "      <td>1.899267</td>\n",
       "      <td>1.364469</td>\n",
       "      <td>1.745421</td>\n",
       "      <td>0.153846</td>\n",
       "      <td>0.188645</td>\n",
       "      <td>2.454212</td>\n",
       "      <td>...</td>\n",
       "      <td>0.203443</td>\n",
       "      <td>1.928755</td>\n",
       "      <td>1.784982</td>\n",
       "      <td>1.300916</td>\n",
       "      <td>3.088828</td>\n",
       "      <td>0.137216</td>\n",
       "      <td>0.092619</td>\n",
       "      <td>0.230037</td>\n",
       "      <td>0.130147</td>\n",
       "      <td>0.222967</td>\n",
       "    </tr>\n",
       "    <tr>\n",
       "      <th>std</th>\n",
       "      <td>4.375759</td>\n",
       "      <td>11.617168</td>\n",
       "      <td>11.609793</td>\n",
       "      <td>11.251539</td>\n",
       "      <td>3.257021</td>\n",
       "      <td>2.038380</td>\n",
       "      <td>2.935894</td>\n",
       "      <td>0.676034</td>\n",
       "      <td>0.787016</td>\n",
       "      <td>2.564885</td>\n",
       "      <td>...</td>\n",
       "      <td>0.535085</td>\n",
       "      <td>2.982733</td>\n",
       "      <td>2.673862</td>\n",
       "      <td>1.711252</td>\n",
       "      <td>4.055039</td>\n",
       "      <td>0.259142</td>\n",
       "      <td>0.295461</td>\n",
       "      <td>0.405768</td>\n",
       "      <td>0.254656</td>\n",
       "      <td>0.402157</td>\n",
       "    </tr>\n",
       "    <tr>\n",
       "      <th>min</th>\n",
       "      <td>16.000000</td>\n",
       "      <td>1.000000</td>\n",
       "      <td>0.000000</td>\n",
       "      <td>0.000000</td>\n",
       "      <td>0.000000</td>\n",
       "      <td>0.000000</td>\n",
       "      <td>0.000000</td>\n",
       "      <td>0.000000</td>\n",
       "      <td>0.000000</td>\n",
       "      <td>0.000000</td>\n",
       "      <td>...</td>\n",
       "      <td>0.000000</td>\n",
       "      <td>0.000000</td>\n",
       "      <td>0.000000</td>\n",
       "      <td>0.000000</td>\n",
       "      <td>0.000000</td>\n",
       "      <td>0.000000</td>\n",
       "      <td>0.000000</td>\n",
       "      <td>0.000000</td>\n",
       "      <td>0.000000</td>\n",
       "      <td>0.000000</td>\n",
       "    </tr>\n",
       "    <tr>\n",
       "      <th>25%</th>\n",
       "      <td>22.000000</td>\n",
       "      <td>9.000000</td>\n",
       "      <td>4.000000</td>\n",
       "      <td>4.425000</td>\n",
       "      <td>0.000000</td>\n",
       "      <td>0.000000</td>\n",
       "      <td>0.000000</td>\n",
       "      <td>0.000000</td>\n",
       "      <td>0.000000</td>\n",
       "      <td>0.000000</td>\n",
       "      <td>...</td>\n",
       "      <td>0.000000</td>\n",
       "      <td>0.100000</td>\n",
       "      <td>0.100000</td>\n",
       "      <td>0.100000</td>\n",
       "      <td>0.300000</td>\n",
       "      <td>0.020000</td>\n",
       "      <td>0.010000</td>\n",
       "      <td>0.050000</td>\n",
       "      <td>0.012500</td>\n",
       "      <td>0.050000</td>\n",
       "    </tr>\n",
       "    <tr>\n",
       "      <th>50%</th>\n",
       "      <td>25.000000</td>\n",
       "      <td>20.000000</td>\n",
       "      <td>15.000000</td>\n",
       "      <td>14.750000</td>\n",
       "      <td>1.000000</td>\n",
       "      <td>1.000000</td>\n",
       "      <td>1.000000</td>\n",
       "      <td>0.000000</td>\n",
       "      <td>0.000000</td>\n",
       "      <td>2.000000</td>\n",
       "      <td>...</td>\n",
       "      <td>0.100000</td>\n",
       "      <td>0.800000</td>\n",
       "      <td>0.750000</td>\n",
       "      <td>0.650000</td>\n",
       "      <td>1.600000</td>\n",
       "      <td>0.060000</td>\n",
       "      <td>0.060000</td>\n",
       "      <td>0.130000</td>\n",
       "      <td>0.060000</td>\n",
       "      <td>0.130000</td>\n",
       "    </tr>\n",
       "    <tr>\n",
       "      <th>75%</th>\n",
       "      <td>29.000000</td>\n",
       "      <td>29.750000</td>\n",
       "      <td>25.000000</td>\n",
       "      <td>23.950000</td>\n",
       "      <td>2.000000</td>\n",
       "      <td>2.000000</td>\n",
       "      <td>2.000000</td>\n",
       "      <td>0.000000</td>\n",
       "      <td>0.000000</td>\n",
       "      <td>4.000000</td>\n",
       "      <td>...</td>\n",
       "      <td>0.280000</td>\n",
       "      <td>2.500000</td>\n",
       "      <td>2.400000</td>\n",
       "      <td>1.900000</td>\n",
       "      <td>4.300000</td>\n",
       "      <td>0.170000</td>\n",
       "      <td>0.120000</td>\n",
       "      <td>0.330000</td>\n",
       "      <td>0.160000</td>\n",
       "      <td>0.310000</td>\n",
       "    </tr>\n",
       "    <tr>\n",
       "      <th>max</th>\n",
       "      <td>39.000000</td>\n",
       "      <td>38.000000</td>\n",
       "      <td>38.000000</td>\n",
       "      <td>38.000000</td>\n",
       "      <td>23.000000</td>\n",
       "      <td>13.000000</td>\n",
       "      <td>23.000000</td>\n",
       "      <td>6.000000</td>\n",
       "      <td>7.000000</td>\n",
       "      <td>11.000000</td>\n",
       "      <td>...</td>\n",
       "      <td>11.250000</td>\n",
       "      <td>21.800000</td>\n",
       "      <td>17.100000</td>\n",
       "      <td>11.200000</td>\n",
       "      <td>27.400000</td>\n",
       "      <td>4.480000</td>\n",
       "      <td>6.500000</td>\n",
       "      <td>6.500000</td>\n",
       "      <td>4.480000</td>\n",
       "      <td>6.500000</td>\n",
       "    </tr>\n",
       "  </tbody>\n",
       "</table>\n",
       "<p>8 rows × 25 columns</p>\n",
       "</div>"
      ],
      "text/plain": [
       "              Age          MP      Starts         90s         Gls         Ast  \\\n",
       "count  546.000000  546.000000  546.000000  546.000000  546.000000  546.000000   \n",
       "mean    25.452381   19.203297   15.311355   15.283883    1.899267    1.364469   \n",
       "std      4.375759   11.617168   11.609793   11.251539    3.257021    2.038380   \n",
       "min     16.000000    1.000000    0.000000    0.000000    0.000000    0.000000   \n",
       "25%     22.000000    9.000000    4.000000    4.425000    0.000000    0.000000   \n",
       "50%     25.000000   20.000000   15.000000   14.750000    1.000000    1.000000   \n",
       "75%     29.000000   29.750000   25.000000   23.950000    2.000000    2.000000   \n",
       "max     39.000000   38.000000   38.000000   38.000000   23.000000   13.000000   \n",
       "\n",
       "             G-PK          PK       PKatt        CrdY  ...      G+A-PK  \\\n",
       "count  546.000000  546.000000  546.000000  546.000000  ...  546.000000   \n",
       "mean     1.745421    0.153846    0.188645    2.454212  ...    0.203443   \n",
       "std      2.935894    0.676034    0.787016    2.564885  ...    0.535085   \n",
       "min      0.000000    0.000000    0.000000    0.000000  ...    0.000000   \n",
       "25%      0.000000    0.000000    0.000000    0.000000  ...    0.000000   \n",
       "50%      1.000000    0.000000    0.000000    2.000000  ...    0.100000   \n",
       "75%      2.000000    0.000000    0.000000    4.000000  ...    0.280000   \n",
       "max     23.000000    6.000000    7.000000   11.000000  ...   11.250000   \n",
       "\n",
       "               xG        npxG          xA     npxG+xA        xG.1        xA.1  \\\n",
       "count  546.000000  546.000000  546.000000  546.000000  546.000000  546.000000   \n",
       "mean     1.928755    1.784982    1.300916    3.088828    0.137216    0.092619   \n",
       "std      2.982733    2.673862    1.711252    4.055039    0.259142    0.295461   \n",
       "min      0.000000    0.000000    0.000000    0.000000    0.000000    0.000000   \n",
       "25%      0.100000    0.100000    0.100000    0.300000    0.020000    0.010000   \n",
       "50%      0.800000    0.750000    0.650000    1.600000    0.060000    0.060000   \n",
       "75%      2.500000    2.400000    1.900000    4.300000    0.170000    0.120000   \n",
       "max     21.800000   17.100000   11.200000   27.400000    4.480000    6.500000   \n",
       "\n",
       "            xG+xA      npxG.1   npxG+xA.1  \n",
       "count  546.000000  546.000000  546.000000  \n",
       "mean     0.230037    0.130147    0.222967  \n",
       "std      0.405768    0.254656    0.402157  \n",
       "min      0.000000    0.000000    0.000000  \n",
       "25%      0.050000    0.012500    0.050000  \n",
       "50%      0.130000    0.060000    0.130000  \n",
       "75%      0.330000    0.160000    0.310000  \n",
       "max      6.500000    4.480000    6.500000  \n",
       "\n",
       "[8 rows x 25 columns]"
      ]
     },
     "execution_count": 91,
     "metadata": {},
     "output_type": "execute_result"
    }
   ],
   "source": [
    "df.describe()"
   ]
  },
  {
   "cell_type": "markdown",
   "id": "f25da209-c6ed-40bc-b959-163fed26dacd",
   "metadata": {},
   "source": [
    "### Player Performance"
   ]
  },
  {
   "cell_type": "markdown",
   "id": "a01fa72d-ef20-41b5-8bc6-9e0dbf354968",
   "metadata": {},
   "source": [
    "#### 1. Who are the top goal scorers in the dataset?"
   ]
  },
  {
   "cell_type": "code",
   "execution_count": 92,
   "id": "c2ce17b4-bf40-4664-b31e-a0219fe70e28",
   "metadata": {},
   "outputs": [
    {
     "name": "stdout",
     "output_type": "stream",
     "text": [
      "                Player               Team   Gls\n",
      "356      Mohamed Salah          Liverpool  23.0\n",
      "556      Son Heung-min  Tottenham Hotspur  23.0\n",
      "423  Cristiano Ronaldo  Manchester United  18.0\n",
      "553         Harry Kane  Tottenham Hotspur  17.0\n",
      "354         Sadio Mané          Liverpool  16.0\n",
      "392    Kevin De Bruyne    Manchester City  15.0\n",
      "359         Diogo Jota          Liverpool  15.0\n",
      "328        Jamie Vardy     Leicester City  15.0\n",
      "220      Wilfried Zaha     Crystal Palace  14.0\n",
      "394    Raheem Sterling    Manchester City  13.0\n"
     ]
    }
   ],
   "source": [
    "top_goal_scorers = df.sort_values(by='Gls', ascending=False).head(10)\n",
    "print(top_goal_scorers[['Player', 'Team', 'Gls']])\n"
   ]
  },
  {
   "cell_type": "code",
   "execution_count": 93,
   "id": "90e9b9f2-e170-4651-b655-a002a14ff524",
   "metadata": {},
   "outputs": [
    {
     "data": {
      "image/png": "[encoded data removed]",
      "text/plain": [
       "<Figure size 720x432 with 1 Axes>"
      ]
     },
     "metadata": {
      "needs_background": "light"
     },
     "output_type": "display_data"
    }
   ],
   "source": [
    "# To visualize top goal scorers\n",
    "plt.figure(figsize=(10, 6))\n",
    "plt.bar(top_goal_scorers['Player'], top_goal_scorers['Gls'])\n",
    "plt.xlabel('Players')\n",
    "plt.ylabel('Goals')\n",
    "plt.title('Top Goal Scorers in the EPL')\n",
    "plt.xticks(rotation=45)\n",
    "plt.tight_layout()\n",
    "plt.show()"
   ]
  },
  {
   "cell_type": "markdown",
   "id": "aae2b842-ee04-4b2c-808d-be50d10b0b4c",
   "metadata": {},
   "source": [
    "#### 2. Which player has the highest expected goals (xG)?"
   ]
  },
  {
   "cell_type": "code",
   "execution_count": 94,
   "id": "90a616d0-e033-4f88-bc64-a73e1c089fd3",
   "metadata": {},
   "outputs": [
    {
     "name": "stdout",
     "output_type": "stream",
     "text": [
      "            Player       Team    xG\n",
      "356  Mohamed Salah  Liverpool  21.8\n"
     ]
    }
   ],
   "source": [
    "player_highest_xG = df[df['xG'] == df['xG'].max()]\n",
    "print(player_highest_xG[['Player', 'Team', 'xG']])"
   ]
  },
  {
   "cell_type": "markdown",
   "id": "7ce10112-5524-40b6-81fd-ff3cc2e85f00",
   "metadata": {},
   "source": [
    "#### 3. Who has the best goals-to-minutes ratio (Gls per 90 minutes)?"
   ]
  },
  {
   "cell_type": "code",
   "execution_count": 125,
   "id": "272bdb92-ee90-4d79-bfb0-30352dd8960d",
   "metadata": {},
   "outputs": [
    {
     "name": "stdout",
     "output_type": "stream",
     "text": [
      "           Player       Team  Goals_per_90\n",
      "375  Divock Origi  Liverpool      2.030075\n"
     ]
    }
   ],
   "source": [
    "df['Min'] = pd.to_numeric(df['Min'], errors='coerce')\n",
    "df['Goals_per_90'] = df['Gls'] / (df['Min'] / 90)\n",
    "best_ratio_player = df[df['Goals_per_90'] == df['Goals_per_90'].max()]\n",
    "print(best_ratio_player[['Player', 'Team', 'Goals_per_90']])\n"
   ]
  },
  {
   "cell_type": "markdown",
   "id": "8791d7db-de4a-49b2-b80a-774509a7425f",
   "metadata": {},
   "source": [
    "#### 4. Identify the players with the most assists (Ast)."
   ]
  },
  {
   "cell_type": "code",
   "execution_count": 126,
   "id": "301a784a-f24a-49cf-8306-6bb9310f33f1",
   "metadata": {},
   "outputs": [
    {
     "name": "stdout",
     "output_type": "stream",
     "text": [
      "                     Player               Team   Ast\n",
      "356           Mohamed Salah          Liverpool  13.0\n",
      "353  Trent Alexander-Arnold          Liverpool  12.0\n",
      "358        Andrew Robertson          Liverpool  10.0\n",
      "188             Mason Mount            Chelsea  10.0\n",
      "323           Harvey Barnes     Leicester City  10.0\n",
      "629            Jarrod Bowen    West Ham United  10.0\n",
      "192             Reece James            Chelsea   9.0\n",
      "553              Harry Kane  Tottenham Hotspur   9.0\n",
      "433              Paul Pogba  Manchester United   9.0\n",
      "565        Dejan Kulusevski  Tottenham Hotspur   8.0\n"
     ]
    }
   ],
   "source": [
    "top_assist_players = df.sort_values(by='Ast', ascending=False).head(10)\n",
    "print(top_assist_players[['Player', 'Team', 'Ast']])"
   ]
  },
  {
   "cell_type": "code",
   "execution_count": 127,
   "id": "557412c2-a43b-4895-ac8a-901e6cbf3657",
   "metadata": {},
   "outputs": [
    {
     "data": {
      "image/png": "[encoded data removed]",
      "text/plain": [
       "<Figure size 720x432 with 1 Axes>"
      ]
     },
     "metadata": {
      "needs_background": "light"
     },
     "output_type": "display_data"
    }
   ],
   "source": [
    "# To visualize top assist providers\n",
    "plt.figure(figsize=(10, 6))\n",
    "plt.bar(top_assist_players['Player'], top_assist_players['Ast'], color='skyblue')\n",
    "plt.xlabel('Players')\n",
    "plt.ylabel('Assists')\n",
    "plt.title('Top Assist Providers in the EPL')\n",
    "plt.xticks(rotation=45)\n",
    "plt.tight_layout()\n",
    "plt.show()\n"
   ]
  },
  {
   "cell_type": "markdown",
   "id": "c28459c1-d49a-400d-a886-455c32a75668",
   "metadata": {},
   "source": [
    "#### 5. Who has the highest expected assists (xA) in the dataset?"
   ]
  },
  {
   "cell_type": "code",
   "execution_count": 128,
   "id": "1f890c49-0862-452b-abb2-4c519271e08d",
   "metadata": {},
   "outputs": [
    {
     "name": "stdout",
     "output_type": "stream",
     "text": [
      "                     Player       Team    xA\n",
      "353  Trent Alexander-Arnold  Liverpool  11.2\n"
     ]
    }
   ],
   "source": [
    "player_highest_xA = df[df['xA'] == df['xA'].max()]\n",
    "print(player_highest_xA[['Player', 'Team', 'xA']])"
   ]
  },
  {
   "cell_type": "markdown",
   "id": "fe0d9e18-8bbe-4a3b-aa64-bbcfcceb06d2",
   "metadata": {},
   "source": [
    "#### 6. Which players have the highest combined goals and assists (G+A)?"
   ]
  },
  {
   "cell_type": "code",
   "execution_count": 129,
   "id": "8f230999-8e60-4e9c-80a9-b841f394e36b",
   "metadata": {},
   "outputs": [
    {
     "name": "stdout",
     "output_type": "stream",
     "text": [
      "                Player               Team   G+A\n",
      "356      Mohamed Salah          Liverpool  36.0\n",
      "556      Son Heung-min  Tottenham Hotspur  30.0\n",
      "553         Harry Kane  Tottenham Hotspur  26.0\n",
      "392    Kevin De Bruyne    Manchester City  23.0\n",
      "629       Jarrod Bowen    West Ham United  22.0\n",
      "423  Cristiano Ronaldo  Manchester United  21.0\n",
      "188        Mason Mount            Chelsea  21.0\n",
      "322     James Maddison     Leicester City  20.0\n",
      "359         Diogo Jota          Liverpool  19.0\n",
      "0          Bukayo Saka            Arsenal  18.0\n"
     ]
    }
   ],
   "source": [
    "df['G+A'] = df['Gls'] + df['Ast']\n",
    "top_GA_players = df.sort_values(by='G+A', ascending=False).head(10)\n",
    "print(top_GA_players[['Player', 'Team', 'G+A']])\n"
   ]
  },
  {
   "cell_type": "code",
   "execution_count": 100,
   "id": "fd722ba7-3d02-4c86-b09b-8883a8090f83",
   "metadata": {},
   "outputs": [
    {
     "data": {
      "image/png": "[encoded data removed]",
      "text/plain": [
       "<Figure size 720x432 with 1 Axes>"
      ]
     },
     "metadata": {
      "needs_background": "light"
     },
     "output_type": "display_data"
    }
   ],
   "source": [
    "# to visualize top contributors in terms of combined G+A\n",
    "plt.figure(figsize=(10, 6))\n",
    "plt.bar(top_GA_players['Player'], top_GA_players['G+A'], color='pink')\n",
    "plt.xlabel('Players')\n",
    "plt.ylabel('Combined Goals and Assists')\n",
    "plt.title('Players with Highest G+A in the EPL')\n",
    "plt.xticks(rotation=45)\n",
    "plt.tight_layout()\n",
    "plt.show()"
   ]
  },
  {
   "cell_type": "markdown",
   "id": "42084246-3eda-4e61-ba6d-f64300b178c1",
   "metadata": {},
   "source": [
    "### Team Analysis"
   ]
  },
  {
   "cell_type": "markdown",
   "id": "19445800-0a86-491d-afed-eabcbc4b62b6",
   "metadata": {},
   "source": [
    "#### 7. Which team has the highest total goals in the dataset?"
   ]
  },
  {
   "cell_type": "code",
   "execution_count": 101,
   "id": "6673dcc5-fc45-4671-9b29-208aefcc5fb9",
   "metadata": {},
   "outputs": [
    {
     "name": "stdout",
     "output_type": "stream",
     "text": [
      "               Team   Gls\n",
      "11  Manchester City  96.0\n"
     ]
    }
   ],
   "source": [
    "team_goals = df.groupby('Team')['Gls'].sum().reset_index()\n",
    "team_highest_goals = team_goals.sort_values(by='Gls', ascending=False).head(1)\n",
    "print(team_highest_goals)\n"
   ]
  },
  {
   "cell_type": "markdown",
   "id": "1e74da28-2d34-478d-a1e0-96e5de796e43",
   "metadata": {},
   "source": [
    "#### 8. Identify the team with the most assists (Ast) in the dataset."
   ]
  },
  {
   "cell_type": "code",
   "execution_count": 130,
   "id": "3128ab2d-3a93-4f8e-a091-75a9eae36a05",
   "metadata": {},
   "outputs": [
    {
     "name": "stdout",
     "output_type": "stream",
     "text": [
      "         Team   Ast\n",
      "10  Liverpool  71.0\n"
     ]
    }
   ],
   "source": [
    "team_Assists = df.groupby('Team')['Ast'].sum().reset_index()\n",
    "team_most_Assists = team_Assists.sort_values(by='Ast', ascending=False).head(1)\n",
    "print(team_most_Assists)"
   ]
  },
  {
   "cell_type": "markdown",
   "id": "a26920bd-bc2f-49ab-b8ea-3cf06ffd1a1d",
   "metadata": {},
   "source": [
    "#### 9. Calculate the average age of players for each team."
   ]
  },
  {
   "cell_type": "code",
   "execution_count": 103,
   "id": "b4218f76-e9cc-4a88-abc3-fd57fff57aac",
   "metadata": {},
   "outputs": [
    {
     "name": "stdout",
     "output_type": "stream",
     "text": [
      "                       Team    Age\n",
      "0                   Arsenal  24.52\n",
      "1               Aston Villa  24.97\n",
      "2                 Brentford  24.21\n",
      "3    Brighton & Hove Albion  24.73\n",
      "4                   Burnley  28.96\n",
      "5                   Chelsea  26.00\n",
      "6            Crystal Palace  26.21\n",
      "7                   Everton  25.15\n",
      "8              Leeds United  23.31\n",
      "9            Leicester City  25.43\n",
      "10                Liverpool  25.33\n",
      "11          Manchester City  25.04\n",
      "12        Manchester United  25.62\n",
      "13         Newcastle United  27.31\n",
      "14             Norwich City  23.96\n",
      "15              Southampton  25.88\n",
      "16        Tottenham Hotspur  24.48\n",
      "17                  Watford  27.20\n",
      "18          West Ham United  26.40\n",
      "19  Wolverhampton Wanderers  25.04\n"
     ]
    }
   ],
   "source": [
    "average_age_per_team = df.groupby('Team')['Age'].mean().reset_index().round(2)\n",
    "print(average_age_per_team)"
   ]
  },
  {
   "cell_type": "markdown",
   "id": "156002a1-386f-4446-a2fd-c87937f9d2a6",
   "metadata": {},
   "source": [
    "#### 10. Determine which team has the most yellow cards (CrdY) in total."
   ]
  },
  {
   "cell_type": "code",
   "execution_count": 131,
   "id": "c43941e8-e1e8-44c7-979d-033a19c89c52",
   "metadata": {},
   "outputs": [
    {
     "name": "stdout",
     "output_type": "stream",
     "text": [
      "           Team   CrdY\n",
      "8  Leeds United  100.0\n"
     ]
    }
   ],
   "source": [
    "team_yellow_cards = df.groupby('Team')['CrdY'].sum().reset_index()\n",
    "team_most_yellow_cards = team_yellow_cards.sort_values(by='CrdY', ascending=False).head(1)\n",
    "print(team_most_yellow_cards)"
   ]
  },
  {
   "cell_type": "markdown",
   "id": "e28ffd98-d5ca-42c2-9957-3e928ebdc916",
   "metadata": {},
   "source": [
    "#### 11. Which team has the best defensive record based on goals conceded?"
   ]
  },
  {
   "cell_type": "code",
   "execution_count": 132,
   "id": "34fab149-595f-4feb-8e51-d1f5d1f5014d",
   "metadata": {},
   "outputs": [
    {
     "name": "stdout",
     "output_type": "stream",
     "text": [
      "            Team   Gls\n",
      "14  Norwich City  21.0\n"
     ]
    }
   ],
   "source": [
    "team_goals_conceded = df.groupby('Team')['Gls'].sum().reset_index()\n",
    "best_defensive_team = team_goals_conceded[team_goals_conceded['Gls'] == team_goals_conceded['Gls'].min()]\n",
    "print(best_defensive_team[['Team', 'Gls']])\n"
   ]
  },
  {
   "cell_type": "markdown",
   "id": "4398c041-08b3-450c-b6f3-6dcdd8bb3202",
   "metadata": {},
   "source": [
    "### Position Analysis"
   ]
  },
  {
   "cell_type": "markdown",
   "id": "cecd4df0-45b9-4dc6-9fbb-2a1fb652aae0",
   "metadata": {},
   "source": [
    "#### 12. Which playing position (Pos) has the highest average goals per player?"
   ]
  },
  {
   "cell_type": "code",
   "execution_count": 133,
   "id": "72967a15-86a2-4ca5-869e-0ad0289dfb2b",
   "metadata": {},
   "outputs": [
    {
     "name": "stdout",
     "output_type": "stream",
     "text": [
      "  Pos       Gls\n",
      "3  FW  4.373494\n"
     ]
    }
   ],
   "source": [
    "avg_goals_per_position = df.groupby('Pos')['Gls'].mean().reset_index()\n",
    "position_highest_avg_goals = avg_goals_per_position.sort_values(by='Gls', ascending=False).head(1)\n",
    "print(position_highest_avg_goals)\n"
   ]
  },
  {
   "cell_type": "markdown",
   "id": "4df39834-f288-4ae1-9b15-2aeb3c92b349",
   "metadata": {},
   "source": [
    "#### 13. Identify the most common nationality (Nation) among defenders (DF)."
   ]
  },
  {
   "cell_type": "code",
   "execution_count": 134,
   "id": "443e34fc-db01-407c-8268-9d82e4bbb33f",
   "metadata": {},
   "outputs": [
    {
     "name": "stdout",
     "output_type": "stream",
     "text": [
      "0    eng ENG\n",
      "dtype: object\n"
     ]
    }
   ],
   "source": [
    "defender_nationality = df[df['Pos'] == 'DF']['Nation'].mode()\n",
    "print(defender_nationality)\n"
   ]
  },
  {
   "cell_type": "markdown",
   "id": "e557b55d-a4fb-44a6-969d-16e75ffea634",
   "metadata": {},
   "source": [
    "#### 14. Calculate the average age of midfielders (MF) and forwards (FW)."
   ]
  },
  {
   "cell_type": "code",
   "execution_count": 135,
   "id": "1b636b18-4177-41ff-bf2d-f8af245a22a5",
   "metadata": {},
   "outputs": [
    {
     "name": "stdout",
     "output_type": "stream",
     "text": [
      "Average age of midfielders: 25.57\n",
      "Average age of forwards: 25.31\n"
     ]
    }
   ],
   "source": [
    "average_age_midfielders = round(df[df['Pos'] == 'MF']['Age'].mean(), 2)\n",
    "average_age_forwards = round(df[df['Pos'] == 'FW']['Age'].mean(), 2)\n",
    "\n",
    "print(\"Average age of midfielders:\", average_age_midfielders)\n",
    "print(\"Average age of forwards:\", average_age_forwards)\n"
   ]
  },
  {
   "cell_type": "markdown",
   "id": "d8a8c0cd-d78d-4a09-9229-5851152b00a0",
   "metadata": {},
   "source": [
    "#### 15. Who are the top-scoring goalkeepers (GK) in terms of goals scored?"
   ]
  },
  {
   "cell_type": "code",
   "execution_count": 136,
   "id": "bb8d6392-e7e5-47be-8099-076efe641dad",
   "metadata": {},
   "outputs": [
    {
     "name": "stdout",
     "output_type": "stream",
     "text": [
      "                Player             Team Pos  Gls\n",
      "2       Aaron Ramsdale          Arsenal  GK  0.0\n",
      "504         Angus Gunn     Norwich City  GK  0.0\n",
      "372  Caoimhín Kelleher        Liverpool  GK  0.0\n",
      "386            Ederson  Manchester City  GK  0.0\n",
      "406       Zack Steffen  Manchester City  GK  0.0\n"
     ]
    }
   ],
   "source": [
    "top_scoring_goalkeepers = df[df['Pos'] == 'GK'].sort_values(by='Gls', ascending=False).head(5)\n",
    "print(top_scoring_goalkeepers[['Player', 'Team', 'Pos', 'Gls']])\n"
   ]
  },
  {
   "cell_type": "markdown",
   "id": "36a5fc68-8b2b-48c3-9548-7acd88fbbf67",
   "metadata": {},
   "source": [
    "### Expected Goals Analysis"
   ]
  },
  {
   "cell_type": "markdown",
   "id": "6056e99a-153b-4314-8560-f938eeaa5ac2",
   "metadata": {},
   "source": [
    "#### 16. Is there a correlation between actual goals (Gls) and expected goals (xG)?\n"
   ]
  },
  {
   "cell_type": "code",
   "execution_count": 137,
   "id": "754ab083-6e1b-4fcd-ad43-bcb0a7147717",
   "metadata": {},
   "outputs": [
    {
     "name": "stdout",
     "output_type": "stream",
     "text": [
      "Correlation between actual goals and expected goals: 0.93\n"
     ]
    }
   ],
   "source": [
    "correlation = round(df['Gls'].corr(df['xG']), 2)\n",
    "print(\"Correlation between actual goals and expected goals:\", correlation)\n"
   ]
  },
  {
   "cell_type": "markdown",
   "id": "5b8273e3-05be-41a8-b14c-9e1655c569b2",
   "metadata": {},
   "source": [
    "#### 17. Which player has the highest non-penalty expected goals (npxG)?"
   ]
  },
  {
   "cell_type": "code",
   "execution_count": 138,
   "id": "e91eaa52-afdb-4588-9022-0870717b4336",
   "metadata": {},
   "outputs": [
    {
     "name": "stdout",
     "output_type": "stream",
     "text": [
      "         Player               Team  npxG\n",
      "553  Harry Kane  Tottenham Hotspur  17.1\n"
     ]
    }
   ],
   "source": [
    "highest_npxG_player = df[df['npxG'] == df['npxG'].max()]\n",
    "print(highest_npxG_player[['Player', 'Team', 'npxG']])\n"
   ]
  },
  {
   "cell_type": "markdown",
   "id": "c43e9ba5-46ff-49cf-b7ad-2ddc9a15e858",
   "metadata": {},
   "source": [
    "#### 18. Calculate the difference between actual goals and expected goals for each player."
   ]
  },
  {
   "cell_type": "code",
   "execution_count": 139,
   "id": "ef242df7-0b6c-498f-81d6-b3aefed128f7",
   "metadata": {},
   "outputs": [
    {
     "name": "stdout",
     "output_type": "stream",
     "text": [
      "                 Player                     Team   Gls   xG  Gls_minus_xG\n",
      "0           Bukayo Saka                  Arsenal  11.0  9.7           1.3\n",
      "1    Gabriel Dos Santos                  Arsenal   5.0  2.7           2.3\n",
      "2        Aaron Ramsdale                  Arsenal   0.0  0.0           0.0\n",
      "3             Ben White                  Arsenal   0.0  1.0          -1.0\n",
      "4       Martin Ødegaard                  Arsenal   7.0  4.8           2.2\n",
      "..                  ...                      ...   ...  ...           ...\n",
      "678         Luke Cundle  Wolverhampton Wanderers   0.0  0.0           0.0\n",
      "679           Chiquinho  Wolverhampton Wanderers   0.0  0.3          -0.3\n",
      "680          John Ruddy  Wolverhampton Wanderers   0.0  0.0           0.0\n",
      "681       Chem Campbell  Wolverhampton Wanderers   0.0  0.0           0.0\n",
      "682  Morgan Gibbs-White  Wolverhampton Wanderers   0.0  0.1          -0.1\n",
      "\n",
      "[546 rows x 5 columns]\n"
     ]
    }
   ],
   "source": [
    "df['Gls_minus_xG'] = df['Gls'] - df['xG']\n",
    "print(df[['Player', 'Team', 'Gls', 'xG', 'Gls_minus_xG']])\n"
   ]
  },
  {
   "cell_type": "markdown",
   "id": "ea2d8891-788f-47f8-aee2-239b54b6a2fe",
   "metadata": {},
   "source": [
    "### Minutes Played"
   ]
  },
  {
   "cell_type": "markdown",
   "id": "cda16f63-71bf-474a-b87e-34fcb7b57acb",
   "metadata": {},
   "source": [
    "#### 19. Identify the players with the most minutes played (Min)."
   ]
  },
  {
   "cell_type": "code",
   "execution_count": 113,
   "id": "0a70ee4c-ebdc-4693-983d-d4068434456b",
   "metadata": {},
   "outputs": [
    {
     "name": "stdout",
     "output_type": "stream",
     "text": [
      "                 Player                    Team    Min\n",
      "338        James Justin          Leicester City  998.0\n",
      "135         Enock Mwepu  Brighton & Hove Albion  996.0\n",
      "334     Ricardo Pereira          Leicester City  991.0\n",
      "365     Roberto Firmino               Liverpool  990.0\n",
      "363     Ibrahima Konaté               Liverpool  990.0\n",
      "301       Tyler Roberts            Leeds United  987.0\n",
      "402         Fernandinho         Manchester City  964.0\n",
      "640           Issa Diop         West Ham United  963.0\n",
      "203  Callum Hudson-Odoi                 Chelsea  962.0\n",
      "364           Luis Díaz               Liverpool  958.0\n"
     ]
    }
   ],
   "source": [
    "most_minutes_played = df.sort_values(by='Min', ascending=False).head(10)\n",
    "print(most_minutes_played[['Player', 'Team', 'Min']])\n"
   ]
  },
  {
   "cell_type": "markdown",
   "id": "c3233cd5-0b2b-4a2e-aa7c-0a1f17e1fd45",
   "metadata": {},
   "source": [
    "#### 20. Calculate the average number of starts for players."
   ]
  },
  {
   "cell_type": "code",
   "execution_count": 114,
   "id": "d4c6bcb7-b22d-4722-bb4b-90f230de98c0",
   "metadata": {},
   "outputs": [
    {
     "name": "stdout",
     "output_type": "stream",
     "text": [
      "Average number of starts for players: 15.31\n"
     ]
    }
   ],
   "source": [
    "average_starts = round(df['Starts'].mean(), 2)\n",
    "print(\"Average number of starts for players:\", average_starts)\n"
   ]
  },
  {
   "cell_type": "markdown",
   "id": "990e3688-0dc2-4107-8638-775c3389cac5",
   "metadata": {},
   "source": [
    "### Discipline"
   ]
  },
  {
   "cell_type": "markdown",
   "id": "20910479-4386-4691-ae31-ba6af5b8bc18",
   "metadata": {},
   "source": [
    "#### 21. Who are the players with the most red cards (CrdR)?"
   ]
  },
  {
   "cell_type": "code",
   "execution_count": 115,
   "id": "9cb84101-5b71-40ec-b889-c0aa846e315d",
   "metadata": {},
   "outputs": [
    {
     "name": "stdout",
     "output_type": "stream",
     "text": [
      "                Player                     Team  CrdR\n",
      "663       Raúl Jiménez  Wolverhampton Wanderers   2.0\n",
      "47          Ezri Konsa              Aston Villa   2.0\n",
      "522  James Ward-Prowse              Southampton   1.0\n",
      "89         Sergi Canós                Brentford   1.0\n",
      "161     Matthew Lowton                  Burnley   1.0\n",
      "473       Ciaran Clark         Newcastle United   1.0\n",
      "588    Emmanuel Dennis                  Watford   1.0\n",
      "635    Vladimír Coufal          West Ham United   1.0\n",
      "633       Craig Dawson          West Ham United   1.0\n",
      "247      Michael Keane                  Everton   1.0\n"
     ]
    }
   ],
   "source": [
    "most_red_cards = df.sort_values(by='CrdR', ascending=False).head(10)\n",
    "print(most_red_cards[['Player', 'Team', 'CrdR']])\n"
   ]
  },
  {
   "cell_type": "markdown",
   "id": "7bd2c74e-b6e7-453a-be54-cbea6022e681",
   "metadata": {},
   "source": [
    "#### 22. Calculate the average number of yellow cards (CrdY) per team."
   ]
  },
  {
   "cell_type": "code",
   "execution_count": 116,
   "id": "03f33988-7a16-4dff-a40a-ff9fa5a4b0d2",
   "metadata": {},
   "outputs": [
    {
     "name": "stdout",
     "output_type": "stream",
     "text": [
      "                       Team      CrdY\n",
      "0                   Arsenal  2.481481\n",
      "1               Aston Villa  2.612903\n",
      "2                 Brentford  2.241379\n",
      "3    Brighton & Hove Albion  2.769231\n",
      "4                   Burnley  2.956522\n",
      "5                   Chelsea  2.423077\n",
      "6            Crystal Palace  2.875000\n",
      "7                   Everton  2.484848\n",
      "8              Leeds United  3.448276\n",
      "9            Leicester City  1.964286\n",
      "10                Liverpool  1.851852\n",
      "11          Manchester City  1.615385\n",
      "12        Manchester United  2.655172\n",
      "13         Newcastle United  2.793103\n",
      "14             Norwich City  2.035714\n",
      "15              Southampton  2.600000\n",
      "16        Tottenham Hotspur  2.760000\n",
      "17                  Watford  2.100000\n",
      "18          West Ham United  2.080000\n",
      "19  Wolverhampton Wanderers  2.384615\n"
     ]
    }
   ],
   "source": [
    "average_yellow_cards_per_team = df.groupby('Team')['CrdY'].mean().reset_index()\n",
    "print(average_yellow_cards_per_team)\n"
   ]
  },
  {
   "cell_type": "markdown",
   "id": "1a4416bc-6f4c-4cc4-8b92-6f43c91d050d",
   "metadata": {},
   "source": [
    "#### 23. Analyze the relationship between yellow cards and player age."
   ]
  },
  {
   "cell_type": "code",
   "execution_count": 141,
   "id": "35d71fee-1b32-40f5-bfee-727dc6adf844",
   "metadata": {},
   "outputs": [
    {
     "data": {
      "image/png": "[encoded data removed]",
      "text/plain": [
       "<Figure size 576x432 with 1 Axes>"
      ]
     },
     "metadata": {
      "needs_background": "light"
     },
     "output_type": "display_data"
    }
   ],
   "source": [
    "# Creating a scatter plot to analyze the relationship between yellow cards and player age\n",
    "plt.figure(figsize=(8, 6))\n",
    "sns.scatterplot(x='Age', y='CrdY', data=df)\n",
    "plt.title('Relationship between Yellow Cards and Player Age')\n",
    "plt.xlabel('Age')\n",
    "plt.ylabel('Yellow Cards')\n",
    "plt.tight_layout()\n",
    "plt.show()\n",
    "\n"
   ]
  },
  {
   "cell_type": "markdown",
   "id": "1b705083-5fc3-4857-bd21-37751284ff46",
   "metadata": {},
   "source": [
    "### Efficiency Analysis"
   ]
  },
  {
   "cell_type": "markdown",
   "id": "5cbf2f4b-b7dc-49e4-8ee0-4784d351e770",
   "metadata": {},
   "source": [
    "#### 24. Calculate the ratio of goals to expected goals (G/xG) for each player."
   ]
  },
  {
   "cell_type": "code",
   "execution_count": 118,
   "id": "5acd2cda-dbd9-419d-a354-dd70a35bcbaa",
   "metadata": {},
   "outputs": [
    {
     "name": "stdout",
     "output_type": "stream",
     "text": [
      "                 Player                     Team   Gls   xG  G_to_xG_ratio\n",
      "0           Bukayo Saka                  Arsenal  11.0  9.7       1.134021\n",
      "1    Gabriel Dos Santos                  Arsenal   5.0  2.7       1.851852\n",
      "2        Aaron Ramsdale                  Arsenal   0.0  0.0            NaN\n",
      "3             Ben White                  Arsenal   0.0  1.0       0.000000\n",
      "4       Martin Ødegaard                  Arsenal   7.0  4.8       1.458333\n",
      "..                  ...                      ...   ...  ...            ...\n",
      "678         Luke Cundle  Wolverhampton Wanderers   0.0  0.0            NaN\n",
      "679           Chiquinho  Wolverhampton Wanderers   0.0  0.3       0.000000\n",
      "680          John Ruddy  Wolverhampton Wanderers   0.0  0.0            NaN\n",
      "681       Chem Campbell  Wolverhampton Wanderers   0.0  0.0            NaN\n",
      "682  Morgan Gibbs-White  Wolverhampton Wanderers   0.0  0.1       0.000000\n",
      "\n",
      "[546 rows x 5 columns]\n"
     ]
    }
   ],
   "source": [
    "df['G_to_xG_ratio'] = df['Gls'] / df['xG']\n",
    "print(df[['Player', 'Team', 'Gls', 'xG', 'G_to_xG_ratio']])\n"
   ]
  },
  {
   "cell_type": "markdown",
   "id": "af73c6ea-b8b9-4cfd-9d88-190ffe57f207",
   "metadata": {},
   "source": [
    "#### 25. Determine which players have the highest non-penalty goals per 90 minutes."
   ]
  },
  {
   "cell_type": "code",
   "execution_count": 119,
   "id": "af91471a-17ac-4e6f-a650-f6230afa0068",
   "metadata": {},
   "outputs": [
    {
     "name": "stdout",
     "output_type": "stream",
     "text": [
      "                 Player                     Team  npg_per_90\n",
      "376        Kaide Gordon                Liverpool        4.00\n",
      "616         Troy Deeney                  Watford        1.44\n",
      "275         Isaac Price                  Everton        1.29\n",
      "615     Ashley Fletcher                  Watford        1.20\n",
      "375        Divock Origi                Liverpool        1.08\n",
      "682  Morgan Gibbs-White  Wolverhampton Wanderers        1.00\n",
      "373     Takumi Minamino                Liverpool        0.87\n",
      "445   Donny van de Beek        Manchester United        0.84\n",
      "69            Trézéguet              Aston Villa        0.82\n",
      "404       Ferrán Torres          Manchester City        0.74\n"
     ]
    }
   ],
   "source": [
    "df['npg_per_90'] = df['npxG'] / (df['Min'] / 90)\n",
    "highest_npg_per_90 = round(df.sort_values(by='npg_per_90', ascending=False).head(10), 2)\n",
    "print(highest_npg_per_90[['Player', 'Team', 'npg_per_90']])\n"
   ]
  },
  {
   "cell_type": "markdown",
   "id": "3f7b37f0-1aff-48f5-9f06-36fa4658affc",
   "metadata": {},
   "source": [
    "#### 26. Who has the best combined non-penalty goals and assists per 90 minutes (G+A-PK)?"
   ]
  },
  {
   "cell_type": "code",
   "execution_count": 120,
   "id": "b8c75560-e893-4354-ae41-822bee0d9ef5",
   "metadata": {},
   "outputs": [
    {
     "name": "stdout",
     "output_type": "stream",
     "text": [
      "                Player               Team  npg_a_per_90\n",
      "377      Neco Williams          Liverpool          6.75\n",
      "376       Kaide Gordon          Liverpool          4.00\n",
      "483       Dwight Gayle   Newcastle United          1.89\n",
      "616        Troy Deeney            Watford          1.80\n",
      "209             Kenedy            Chelsea          1.55\n",
      "445  Donny van de Beek  Manchester United          1.44\n",
      "275        Isaac Price            Everton          1.29\n",
      "615    Ashley Fletcher            Watford          1.20\n",
      "373    Takumi Minamino          Liverpool          1.11\n",
      "375       Divock Origi          Liverpool          1.08\n"
     ]
    }
   ],
   "source": [
    "df['npg_a_per_90'] = (df['npxG'] + df['xA']) / (df['Min'] / 90)\n",
    "highest_npg_a_per_90 = round(df.sort_values(by='npg_a_per_90', ascending=False).head(10), 2)\n",
    "print(highest_npg_a_per_90[['Player', 'Team', 'npg_a_per_90']])\n"
   ]
  },
  {
   "cell_type": "markdown",
   "id": "7a09fddf-3dbf-434a-918c-959c0b4aa82b",
   "metadata": {},
   "source": [
    "### Age and Performance"
   ]
  },
  {
   "cell_type": "markdown",
   "id": "27471f7d-3007-451a-99dc-4980a8cba424",
   "metadata": {},
   "source": [
    "#### 27. Is there a correlation between player age and performance metrics like goals or assists?"
   ]
  },
  {
   "cell_type": "code",
   "execution_count": 121,
   "id": "0b5c7856-b81f-4b8b-b29e-0fc36a5935c9",
   "metadata": {},
   "outputs": [
    {
     "name": "stdout",
     "output_type": "stream",
     "text": [
      "           Age       Gls       Ast      CrdY      CrdR\n",
      "Age   1.000000  0.080965  0.055949  0.142529  0.042316\n",
      "Gls   0.080965  1.000000  0.598363  0.284213  0.070361\n",
      "Ast   0.055949  0.598363  1.000000  0.301684  0.112415\n",
      "CrdY  0.142529  0.284213  0.301684  1.000000  0.292004\n",
      "CrdR  0.042316  0.070361  0.112415  0.292004  1.000000\n"
     ]
    }
   ],
   "source": [
    "# Checking the correlation between player age and performance metrics\n",
    "age_performance_corr = df[['Age', 'Gls', 'Ast', 'CrdY', 'CrdR']].corr()\n",
    "print(age_performance_corr)\n"
   ]
  },
  {
   "cell_type": "markdown",
   "id": "78eac60b-3996-4e44-a88f-df771ec6267a",
   "metadata": {},
   "source": [
    "#### 28. How does the age distribution differ for different playing positions?"
   ]
  },
  {
   "cell_type": "code",
   "execution_count": 143,
   "id": "bc29b2a3-9886-4db6-a54a-c2e655d3e421",
   "metadata": {},
   "outputs": [
    {
     "data": {
      "image/png": "[encoded data removed]",
      "text/plain": [
       "<Figure size 720x432 with 1 Axes>"
      ]
     },
     "metadata": {
      "needs_background": "light"
     },
     "output_type": "display_data"
    }
   ],
   "source": [
    "plt.figure(figsize=(10, 6))\n",
    "sns.boxplot(x='Pos', y='Age', data=df)\n",
    "plt.title('Age Distribution Across Playing Positions')\n",
    "plt.xlabel('Playing Positions')\n",
    "plt.ylabel('Age')\n",
    "plt.tight_layout()\n",
    "plt.show()\n"
   ]
  },
  {
   "cell_type": "markdown",
   "id": "34ed00ea-61a8-4388-9231-9a21ff73a2b0",
   "metadata": {},
   "source": [
    "#### 29. Analyze the relationship between age and disciplinary actions (yellow and red cards)."
   ]
  },
  {
   "cell_type": "code",
   "execution_count": 123,
   "id": "f551b2cc-1b99-4a85-b53d-d46b811ee03f",
   "metadata": {},
   "outputs": [
    {
     "data": {
      "image/png": "[encoded data removed]",
      "text/plain": [
       "<Figure size 576x432 with 1 Axes>"
      ]
     },
     "metadata": {
      "needs_background": "light"
     },
     "output_type": "display_data"
    }
   ],
   "source": [
    "plt.figure(figsize=(8, 6))\n",
    "sns.scatterplot(x='Age', y='CrdY', data=df, label='Yellow Cards')\n",
    "sns.scatterplot(x='Age', y='CrdR', data=df, label='Red Cards')\n",
    "plt.title('Relationship Between Age and Disciplinary Actions')\n",
    "plt.xlabel('Age')\n",
    "plt.ylabel('Number of Cards')\n",
    "plt.legend()\n",
    "plt.tight_layout()\n",
    "plt.show()\n"
   ]
  },
  {
   "cell_type": "markdown",
   "id": "7d3b8635-7e19-40a3-86fe-55afa44ae82e",
   "metadata": {},
   "source": [
    "#### 30. Calculate the average age for players from different nationalities (Nations)."
   ]
  },
  {
   "cell_type": "code",
   "execution_count": 124,
   "id": "4948fa68-078a-4d77-a534-ed71c622cf24",
   "metadata": {},
   "outputs": [
    {
     "name": "stdout",
     "output_type": "stream",
     "text": [
      "     Nation     Age\n",
      "0    al ALB  19.000\n",
      "1    ao ANG  27.000\n",
      "2    ar ARG  27.625\n",
      "3    at AUT  27.000\n",
      "4    ba BIH  31.000\n",
      "..      ...     ...\n",
      "58   ve VEN  31.000\n",
      "59  wls WAL  24.250\n",
      "60   xk KVX  25.000\n",
      "61   zm ZAM  22.500\n",
      "62   zw ZIM  27.000\n",
      "\n",
      "[63 rows x 2 columns]\n"
     ]
    }
   ],
   "source": [
    "avg_age_by_nationality = df.groupby('Nation')['Age'].mean().reset_index()\n",
    "print(avg_age_by_nationality)\n"
   ]
  },
  {
   "cell_type": "code",
   "execution_count": null,
   "id": "74685d44-c233-418b-b515-aaf3d46ce340",
   "metadata": {},
   "outputs": [],
   "source": []
  }
 ],
 "metadata": {
  "kernelspec": {
   "display_name": "Python 3",
   "language": "python",
   "name": "python3"
  },
  "language_info": {
   "codemirror_mode": {
    "name": "ipython",
    "version": 3
   },
   "file_extension": ".py",
   "mimetype": "text/x-python",
   "name": "python",
   "nbconvert_exporter": "python",
   "pygments_lexer": "ipython3",
   "version": "3.8.8"
  }
 },
 "nbformat": 4,
 "nbformat_minor": 5
}
